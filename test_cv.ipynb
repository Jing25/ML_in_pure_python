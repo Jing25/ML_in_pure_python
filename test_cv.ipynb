{
 "cells": [
  {
   "cell_type": "code",
   "execution_count": 1,
   "id": "efbe6668-5fe8-4e12-a4bd-cfc39e33bd63",
   "metadata": {},
   "outputs": [],
   "source": [
    "%load_ext autoreload\n",
    "%autoreload 2"
   ]
  },
  {
   "cell_type": "code",
   "execution_count": 2,
   "id": "74f177f0-dd07-48ba-82d1-2a047a40e051",
   "metadata": {},
   "outputs": [],
   "source": [
    "import numpy as np\n",
    "from sklearn import datasets\n",
    "import matplotlib.pyplot as plt\n",
    "from sklearn.model_selection import train_test_split\n",
    "import pandas as pd\n",
    "pd.set_option('display.max_columns', None)\n",
    "\n",
    "import torch\n",
    "from torch import nn\n",
    "import torch.nn.functional as F\n",
    "\n",
    "import ml.losses as mll\n",
    "import ml.models as mlm\n",
    "import ml.models_cv as mlcv"
   ]
  },
  {
   "cell_type": "markdown",
   "id": "f23cbcff-6038-4784-a2e0-29a5dcc51efb",
   "metadata": {},
   "source": [
    "#### Classification dataset"
   ]
  },
  {
   "cell_type": "code",
   "execution_count": 15,
   "id": "77539b72-988b-4cef-ad20-84c4981b1121",
   "metadata": {},
   "outputs": [],
   "source": [
    "X, y = datasets.make_classification(n_samples=2000, n_features=20, n_informative=4, n_classes=5, random_state=42)\n",
    "X_train, X_test, y_train, y_test = train_test_split(X, y, test_size=0.2, random_state=42)"
   ]
  },
  {
   "cell_type": "code",
   "execution_count": 16,
   "id": "994e9258-18e0-4a19-be74-051476722e85",
   "metadata": {},
   "outputs": [],
   "source": [
    "n_sample, n_feature = X_train.shape\n",
    "out_dim = 5"
   ]
  },
  {
   "cell_type": "code",
   "execution_count": 5,
   "id": "e152a6b9-12a2-441c-b4b3-39cbdea990ce",
   "metadata": {},
   "outputs": [],
   "source": [
    "# dataset = datasets.fetch_openml('iris')  ## ASP-POTASSCO-classification / iris\n",
    "dataset = datasets.load_digits()\n",
    "\n",
    "X, y = dataset.data, dataset.target\n",
    "\n",
    "X_train, X_test, y_train, y_test = train_test_split(X, y, test_size=0.2, random_state=42)"
   ]
  },
  {
   "cell_type": "code",
   "execution_count": 6,
   "id": "3d43c3e9-0e3b-4f5d-99d4-62bf376bac1d",
   "metadata": {},
   "outputs": [],
   "source": [
    "n_sample, n_feature = X_train.shape\n",
    "out_dim = 10"
   ]
  },
  {
   "cell_type": "code",
   "execution_count": 7,
   "id": "7ef8fa0e-41ef-4ccf-9752-8fa65e3da941",
   "metadata": {},
   "outputs": [],
   "source": [
    "optim = {\n",
    "    'SGD': {'rho': 0.9},\n",
    "    'RMSProp': {'decay_rate': 0.99, 'epsilon': 1e-8},\n",
    "    'Adam': {'beta1': 0.9, 'beta2': 0.999, 'epsilon': 1e-8}\n",
    "}"
   ]
  },
  {
   "cell_type": "code",
   "execution_count": 77,
   "id": "64d6d179-78fc-40e0-9e85-6328214277fe",
   "metadata": {},
   "outputs": [],
   "source": [
    "rule = 'RMSProp'\n",
    "model = mlm.ThreeLayerNet(n_feature, [40, 20], out_dim, optim_rule=rule, config=optim[rule], is_bn=True)"
   ]
  },
  {
   "cell_type": "code",
   "execution_count": 78,
   "id": "040b1ac1-24cd-4881-a372-09215005a7f0",
   "metadata": {
    "tags": []
   },
   "outputs": [
    {
     "name": "stdout",
     "output_type": "stream",
     "text": [
      "Iteration 0: loss 29171.82, training acc 0.15, val acc 0.10\n",
      "Iteration 20: loss 23231.30, training acc 0.49, val acc 0.52\n",
      "Iteration 40: loss 18353.47, training acc 0.72, val acc 0.68\n",
      "Iteration 60: loss 14515.04, training acc 0.81, val acc 0.78\n",
      "Iteration 80: loss 11487.92, training acc 0.88, val acc 0.86\n",
      "Iteration 100: loss 9100.42, training acc 0.92, val acc 0.88\n",
      "Iteration 120: loss 7209.36, training acc 0.94, val acc 0.91\n",
      "Iteration 140: loss 5719.23, training acc 0.95, val acc 0.91\n",
      "Iteration 160: loss 4544.68, training acc 0.96, val acc 0.92\n",
      "Iteration 180: loss 3618.72, training acc 0.98, val acc 0.94\n",
      "Iteration 200: loss 2889.20, training acc 0.98, val acc 0.95\n",
      "Iteration 220: loss 2313.92, training acc 0.99, val acc 0.96\n",
      "Iteration 240: loss 1861.80, training acc 0.99, val acc 0.96\n",
      "Iteration 260: loss 1504.49, training acc 0.99, val acc 0.97\n",
      "Iteration 280: loss 1222.07, training acc 0.99, val acc 0.97\n",
      "Iteration 300: loss 997.58, training acc 1.00, val acc 0.97\n",
      "Iteration 320: loss 819.06, training acc 1.00, val acc 0.97\n",
      "Iteration 340: loss 678.14, training acc 1.00, val acc 0.97\n",
      "Iteration 360: loss 564.76, training acc 1.00, val acc 0.98\n",
      "Iteration 380: loss 472.43, training acc 1.00, val acc 0.98\n",
      "Iteration 400: loss 398.19, training acc 1.00, val acc 0.98\n",
      "Iteration 420: loss 339.55, training acc 1.00, val acc 0.97\n",
      "Iteration 440: loss 296.41, training acc 1.00, val acc 0.97\n",
      "Iteration 460: loss 260.42, training acc 1.00, val acc 0.97\n",
      "Iteration 480: loss 230.29, training acc 1.00, val acc 0.96\n"
     ]
    }
   ],
   "source": [
    "training_loss, train_acc, val_acc = model.fit(X_train, y_train, X_test, y_test, mll.SoftmaxCrossEntropy(), lr=0.01, reg=0.3, n_iter=500, n=20)"
   ]
  },
  {
   "cell_type": "code",
   "execution_count": 79,
   "id": "f8c4ef16-c68d-4760-84c8-d535297fdb14",
   "metadata": {},
   "outputs": [
    {
     "data": {
      "image/png": "[encoded data removed]",
      "text/plain": [
       "<Figure size 432x288 with 1 Axes>"
      ]
     },
     "metadata": {
      "needs_background": "light"
     },
     "output_type": "display_data"
    }
   ],
   "source": [
    "fig, ax = plt.subplots()\n",
    "ax.plot(range(len(train_acc)), train_acc, 'blue')\n",
    "ax.plot(range(len(val_acc)), val_acc, 'orange')\n",
    "plt.show()"
   ]
  },
  {
   "cell_type": "code",
   "execution_count": 80,
   "id": "9c26792b-0a11-4826-8a95-4e706e222ab5",
   "metadata": {},
   "outputs": [
    {
     "data": {
      "image/png": "[encoded data removed]",
      "text/plain": [
       "<Figure size 432x288 with 1 Axes>"
      ]
     },
     "metadata": {
      "needs_background": "light"
     },
     "output_type": "display_data"
    }
   ],
   "source": [
    "fig, ax = plt.subplots()\n",
    "ax.plot(range(len(training_loss)), training_loss, 'blue')\n",
    "plt.show()"
   ]
  },
  {
   "cell_type": "code",
   "execution_count": 52,
   "id": "05b06664-f854-48c8-a8d7-f1cb4266a470",
   "metadata": {},
   "outputs": [
    {
     "data": {
      "text/plain": [
       "array([[-0.29403657,  0.96124471,  5.10027817,  2.50012447, -2.19492415,\n",
       "         0.51891135,  0.13424329,  1.0429014 ,  0.6726052 , -1.43745242]])"
      ]
     },
     "execution_count": 52,
     "metadata": {},
     "output_type": "execute_result"
    }
   ],
   "source": [
    "y_prob = model.predict(X_test[120:121, :])\n",
    "y_prob"
   ]
  },
  {
   "cell_type": "code",
   "execution_count": 53,
   "id": "90d8acf0-3da4-40f2-adcc-6918c7e3767f",
   "metadata": {},
   "outputs": [
    {
     "data": {
      "text/plain": [
       "2"
      ]
     },
     "execution_count": 53,
     "metadata": {},
     "output_type": "execute_result"
    }
   ],
   "source": [
    "np.argmax(y_prob)"
   ]
  },
  {
   "cell_type": "code",
   "execution_count": 54,
   "id": "6d3bc87d-c883-435b-b2a5-63405917b7b2",
   "metadata": {},
   "outputs": [
    {
     "data": {
      "text/plain": [
       "<matplotlib.image.AxesImage at 0x7fbc0233c490>"
      ]
     },
     "execution_count": 54,
     "metadata": {},
     "output_type": "execute_result"
    },
    {
     "data": {
      "image/png": "[encoded data removed]",
      "text/plain": [
       "<Figure size 432x288 with 1 Axes>"
      ]
     },
     "metadata": {
      "needs_background": "light"
     },
     "output_type": "display_data"
    }
   ],
   "source": [
    "plt.imshow(X_test[120:121, :].reshape(8, 8))"
   ]
  },
  {
   "cell_type": "code",
   "execution_count": 249,
   "id": "8f6b1711-8839-40a5-aa56-9b51dae63350",
   "metadata": {},
   "outputs": [],
   "source": [
    "def train(X, y, X_val, y_val, hidden_dim=30, n_class=10, lr=0.1, reg=0.1, n_iter=100):\n",
    "    n_feature = X.shape[1]\n",
    "    model = mlcv.TwoLayerNet(n_feature, 30, 10, lr, reg)\n",
    "    \n",
    "    training_loss = []\n",
    "    train_acc = []\n",
    "    val_acc = []\n",
    "    \n",
    "    for i in range(n_iter):\n",
    "        \n",
    "        loss, grads = model.loss(X_train, y_train)\n",
    "        training_loss.append(loss)\n",
    "                \n",
    "        for k, grad in grads.items():\n",
    "            model.params[k] -= lr * grad\n",
    "        \n",
    "        if i % 10 == 0:\n",
    "            y_t = model.loss(X)\n",
    "            y_v = model.loss(X_val)\n",
    "            \n",
    "            t_acc = (np.argmax(y_t, axis=1) == y).mean()\n",
    "            v_acc = (np.argmax(y_v, axis=1) == y_val).mean()\n",
    "            train_acc.append(t_acc)\n",
    "            val_acc.append(v_acc)\n",
    "            \n",
    "            print(f'interation i: training loss {loss:.2f}, train acc {t_acc:.2f} val acc {v_acc:.2f}')\n",
    "            \n",
    "    return training_loss, train_acc, val_acc\n",
    "            "
   ]
  },
  {
   "cell_type": "code",
   "execution_count": 265,
   "id": "5374ad6c-7741-4f86-8683-06e3493b3162",
   "metadata": {},
   "outputs": [
    {
     "name": "stdout",
     "output_type": "stream",
     "text": [
      "interation i: training loss 49204.38, train acc 0.11 val acc 0.11\n",
      "interation i: training loss 35466.14, train acc 0.24 val acc 0.25\n",
      "interation i: training loss 30723.50, train acc 0.37 val acc 0.38\n",
      "interation i: training loss 26957.03, train acc 0.47 val acc 0.46\n",
      "interation i: training loss 23765.90, train acc 0.55 val acc 0.52\n",
      "interation i: training loss 20997.74, train acc 0.59 val acc 0.57\n",
      "interation i: training loss 18570.71, train acc 0.62 val acc 0.60\n",
      "interation i: training loss 16434.40, train acc 0.65 val acc 0.64\n",
      "interation i: training loss 14549.52, train acc 0.68 val acc 0.66\n",
      "interation i: training loss 12884.19, train acc 0.70 val acc 0.66\n",
      "interation i: training loss 11411.77, train acc 0.71 val acc 0.68\n",
      "interation i: training loss 10108.78, train acc 0.72 val acc 0.69\n",
      "interation i: training loss 8955.36, train acc 0.73 val acc 0.71\n",
      "interation i: training loss 7934.17, train acc 0.74 val acc 0.72\n",
      "interation i: training loss 7029.97, train acc 0.76 val acc 0.73\n",
      "interation i: training loss 6229.19, train acc 0.77 val acc 0.74\n",
      "interation i: training loss 5519.94, train acc 0.77 val acc 0.74\n",
      "interation i: training loss 4891.63, train acc 0.78 val acc 0.75\n",
      "interation i: training loss 4334.99, train acc 0.78 val acc 0.76\n",
      "interation i: training loss 3841.81, train acc 0.79 val acc 0.76\n",
      "interation i: training loss 3404.83, train acc 0.80 val acc 0.76\n",
      "interation i: training loss 3017.61, train acc 0.80 val acc 0.76\n",
      "interation i: training loss 2674.49, train acc 0.81 val acc 0.76\n",
      "interation i: training loss 2370.42, train acc 0.81 val acc 0.77\n",
      "interation i: training loss 2100.97, train acc 0.81 val acc 0.78\n",
      "interation i: training loss 1862.19, train acc 0.82 val acc 0.78\n",
      "interation i: training loss 1650.57, train acc 0.82 val acc 0.78\n",
      "interation i: training loss 1463.03, train acc 0.82 val acc 0.78\n",
      "interation i: training loss 1296.81, train acc 0.83 val acc 0.78\n",
      "interation i: training loss 1149.49, train acc 0.83 val acc 0.78\n",
      "interation i: training loss 1018.92, train acc 0.83 val acc 0.79\n",
      "interation i: training loss 903.20, train acc 0.84 val acc 0.79\n",
      "interation i: training loss 800.62, train acc 0.84 val acc 0.80\n",
      "interation i: training loss 709.71, train acc 0.84 val acc 0.81\n",
      "interation i: training loss 629.13, train acc 0.84 val acc 0.81\n",
      "interation i: training loss 557.71, train acc 0.85 val acc 0.81\n",
      "interation i: training loss 494.41, train acc 0.85 val acc 0.81\n",
      "interation i: training loss 438.30, train acc 0.85 val acc 0.81\n",
      "interation i: training loss 388.57, train acc 0.86 val acc 0.81\n",
      "interation i: training loss 344.49, train acc 0.86 val acc 0.81\n",
      "interation i: training loss 305.42, train acc 0.86 val acc 0.82\n",
      "interation i: training loss 270.80, train acc 0.86 val acc 0.82\n",
      "interation i: training loss 240.11, train acc 0.87 val acc 0.82\n",
      "interation i: training loss 212.91, train acc 0.87 val acc 0.82\n",
      "interation i: training loss 188.81, train acc 0.87 val acc 0.82\n",
      "interation i: training loss 167.45, train acc 0.87 val acc 0.83\n",
      "interation i: training loss 148.52, train acc 0.88 val acc 0.83\n",
      "interation i: training loss 131.75, train acc 0.88 val acc 0.83\n",
      "interation i: training loss 116.89, train acc 0.88 val acc 0.83\n",
      "interation i: training loss 103.73, train acc 0.88 val acc 0.83\n"
     ]
    }
   ],
   "source": [
    "train_loss, train_acc, val_acc = train(X_train, y_train, X_test, y_test, lr=0.005, reg=0.6, n_iter=500)"
   ]
  },
  {
   "cell_type": "code",
   "execution_count": 266,
   "id": "ee8de224-ed6d-4001-bfd9-e195d67e5318",
   "metadata": {},
   "outputs": [
    {
     "data": {
      "image/png": "[encoded data removed]",
      "text/plain": [
       "<Figure size 432x288 with 1 Axes>"
      ]
     },
     "metadata": {
      "needs_background": "light"
     },
     "output_type": "display_data"
    }
   ],
   "source": [
    "fig, ax = plt.subplots()\n",
    "ax.plot(range(len(train_acc)), train_acc, 'blue')\n",
    "ax.plot(range(len(val_acc)), val_acc, 'orange')\n",
    "plt.show()"
   ]
  },
  {
   "cell_type": "code",
   "execution_count": 267,
   "id": "c74138bd-c924-4be1-b230-a42588819c45",
   "metadata": {},
   "outputs": [
    {
     "data": {
      "image/png": "[encoded data removed]",
      "text/plain": [
       "<Figure size 432x288 with 1 Axes>"
      ]
     },
     "metadata": {
      "needs_background": "light"
     },
     "output_type": "display_data"
    }
   ],
   "source": [
    "fig, ax = plt.subplots()\n",
    "ax.plot(range(len(train_loss)), train_loss, 'blue')\n",
    "plt.show()"
   ]
  },
  {
   "cell_type": "code",
   "execution_count": 182,
   "id": "f0788c36-10ef-46fb-9e50-c7c024902074",
   "metadata": {},
   "outputs": [
    {
     "data": {
      "text/plain": [
       "0.2533054975643702"
      ]
     },
     "execution_count": 182,
     "metadata": {},
     "output_type": "execute_result"
    }
   ],
   "source": [
    "(np.argmax(a, axis=1) == y_train).mean()"
   ]
  },
  {
   "cell_type": "code",
   "execution_count": 136,
   "id": "600499ed-6d13-4eb7-9feb-77307cd7d482",
   "metadata": {},
   "outputs": [],
   "source": [
    "y_o = model.predict(X_train)"
   ]
  },
  {
   "cell_type": "code",
   "execution_count": 137,
   "id": "17727835-d25b-4805-94c5-17f6d1917dfe",
   "metadata": {},
   "outputs": [
    {
     "data": {
      "text/plain": [
       "array([0.00000000e+000, 1.36166782e-275, 0.00000000e+000, 0.00000000e+000,\n",
       "       2.43200046e-186, 0.00000000e+000, 1.00000000e+000, 0.00000000e+000,\n",
       "       0.00000000e+000, 1.55245187e-287])"
      ]
     },
     "execution_count": 137,
     "metadata": {},
     "output_type": "execute_result"
    }
   ],
   "source": [
    "y_o[0,:]"
   ]
  },
  {
   "cell_type": "code",
   "execution_count": 138,
   "id": "e6ec95b2-0e4a-448e-a688-5ab9fc2dbb19",
   "metadata": {},
   "outputs": [
    {
     "data": {
      "text/plain": [
       "6"
      ]
     },
     "execution_count": 138,
     "metadata": {},
     "output_type": "execute_result"
    }
   ],
   "source": [
    "y_train[0]"
   ]
  },
  {
   "cell_type": "code",
   "execution_count": 133,
   "id": "dd4c8bf0-e11f-476f-b3bb-1de69747cfb2",
   "metadata": {},
   "outputs": [
    {
     "data": {
      "text/plain": [
       "array([6, 9, 9, ..., 9, 9, 1])"
      ]
     },
     "execution_count": 133,
     "metadata": {},
     "output_type": "execute_result"
    }
   ],
   "source": [
    "np.argmax(y_o, axis=1)"
   ]
  },
  {
   "cell_type": "code",
   "execution_count": 136,
   "id": "18a31225-3f70-49c8-835c-5dec9aa466cf",
   "metadata": {},
   "outputs": [
    {
     "data": {
      "image/png": "[encoded data removed]",
      "text/plain": [
       "<Figure size 432x288 with 1 Axes>"
      ]
     },
     "metadata": {
      "needs_background": "light"
     },
     "output_type": "display_data"
    }
   ],
   "source": [
    "fig, ax = plt.subplots()\n",
    "ax.plot(range(len(training_loss)), training_loss, 'blue')\n",
    "ax.plot(range(len(val_loss)), val_loss, 'orange')\n",
    "plt.show()"
   ]
  },
  {
   "cell_type": "code",
   "execution_count": 62,
   "id": "c79e823c-551f-421a-815f-98e7849b447b",
   "metadata": {},
   "outputs": [],
   "source": [
    "class Model:\n",
    "  def __init__(self, input_dim, num_hidden):\n",
    "    self.linear1 = mlm.Linear(input_dim, num_hidden)\n",
    "    self.relu = mlm.ReLU()\n",
    "    self.linear2 = mlm.Linear(num_hidden, 10)\n",
    "  \n",
    "  def __call__(self, x):\n",
    "    l1 = self.linear1(x)\n",
    "    r = self.relu(l1)\n",
    "    l2 = self.linear2(r)\n",
    "    return l2\n",
    "  \n",
    "  def backward(self, output_gradient):\n",
    "    linear2_gradient = self.linear2.backward(output_gradient)\n",
    "    relu_gradient = self.relu.backward(linear2_gradient)\n",
    "    linear1_gradient = self.linear1.backward(relu_gradient)\n",
    "    # print('Model backward', linear2_gradient.shape, relu_gradient.shape, linear1_gradient.shape)\n",
    "    # import pdb; pdb.set_trace()\n",
    "    return linear1_gradient\n",
    "\n",
    "  def update(self, lr, reg):\n",
    "    self.linear2.update(lr, reg)\n",
    "    self.linear1.update(lr, reg)"
   ]
  },
  {
   "cell_type": "code",
   "execution_count": 116,
   "id": "69a7bd45-79c1-4a43-b98a-bbbc455513c2",
   "metadata": {},
   "outputs": [
    {
     "name": "stdout",
     "output_type": "stream",
     "text": [
      "10288.01961227661\n",
      "27015.14346470813\n"
     ]
    }
   ],
   "source": [
    "loss = torch.nn\n",
    "model = Model(n_feature, 30)\n",
    "y_pred = model(X_train)\n",
    "loss_value = loss(y_train, y_pred)\n",
    "print(loss_value)\n",
    "loss_gradient = loss.backward()\n",
    "model.backward(loss_gradient)\n",
    "model.update(0.1, 0)\n",
    "y_pred = model(X_train)\n",
    "loss_value = loss(y_train, y_pred)\n",
    "print(loss_value)"
   ]
  },
  {
   "cell_type": "code",
   "execution_count": 61,
   "id": "34709a3f-2f6d-4fa3-a2ee-c9486bbaa950",
   "metadata": {},
   "outputs": [],
   "source": [
    "from typing import Callable\n",
    "\n",
    "def fit(x: np.ndarray, y: np.ndarray, model: Callable, loss: Callable, lr: float, num_epochs: int, reg: float=0):\n",
    "  for epoch in range(num_epochs):\n",
    "    y_pred = model(x)\n",
    "    loss_value = loss(y, y_pred)\n",
    "    print(f'Epoch {epoch}, loss {loss_value}')\n",
    "    gradient_from_loss = loss.backward()\n",
    "    model.backward(gradient_from_loss)\n",
    "    model.update(lr, reg)"
   ]
  },
  {
   "cell_type": "code",
   "execution_count": 66,
   "id": "116a6c7c-ac0f-486f-af96-9625dbdcea2c",
   "metadata": {},
   "outputs": [],
   "source": [
    "model = Model(n_feature, 30)\n",
    "y_p = model(X_train)"
   ]
  },
  {
   "cell_type": "code",
   "execution_count": 68,
   "id": "83d3ccde-ee73-44e5-9b7e-65ef01204c22",
   "metadata": {},
   "outputs": [
    {
     "data": {
      "text/plain": [
       "(1437, 10)"
      ]
     },
     "execution_count": 68,
     "metadata": {},
     "output_type": "execute_result"
    }
   ],
   "source": [
    "y_p.shape"
   ]
  },
  {
   "cell_type": "code",
   "execution_count": 69,
   "id": "1df04468-1f9b-43ec-97f3-e807993f0963",
   "metadata": {},
   "outputs": [],
   "source": [
    "loss_t = torch.nn.CrossEntropyLoss()"
   ]
  },
  {
   "cell_type": "code",
   "execution_count": 75,
   "id": "f7165cf0-f158-496b-91ad-a15f1f9b3318",
   "metadata": {},
   "outputs": [],
   "source": [
    "y_p_t = torch.tensor(y_p, requires_grad=True)\n",
    "y_t = torch.tensor(y_train)"
   ]
  },
  {
   "cell_type": "code",
   "execution_count": 76,
   "id": "da2de497-fb4b-411d-b19d-552d9434d82d",
   "metadata": {},
   "outputs": [],
   "source": [
    "out = loss_t(y_p_t, y_t)"
   ]
  },
  {
   "cell_type": "code",
   "execution_count": 77,
   "id": "9b4c436d-0299-40d1-9916-9773f775866d",
   "metadata": {},
   "outputs": [
    {
     "data": {
      "text/plain": [
       "tensor(8491.5285, dtype=torch.float64, grad_fn=<NllLossBackward0>)"
      ]
     },
     "execution_count": 77,
     "metadata": {},
     "output_type": "execute_result"
    }
   ],
   "source": [
    "out"
   ]
  },
  {
   "cell_type": "code",
   "execution_count": 78,
   "id": "53824d20-8719-4be4-810c-98be9a22d726",
   "metadata": {},
   "outputs": [],
   "source": [
    "out.backward()"
   ]
  },
  {
   "cell_type": "code",
   "execution_count": 79,
   "id": "5a273955-f023-4ed4-8462-0b62ab9fc547",
   "metadata": {},
   "outputs": [
    {
     "data": {
      "text/plain": [
       "tensor([[ 0.0000e+00,  0.0000e+00,  0.0000e+00,  ...,  0.0000e+00,\n",
       "          6.9589e-04,  0.0000e+00],\n",
       "        [-6.9589e-04,  0.0000e+00,  0.0000e+00,  ...,  0.0000e+00,\n",
       "          6.9589e-04,  0.0000e+00],\n",
       "        [-6.9589e-04,  0.0000e+00,  0.0000e+00,  ...,  0.0000e+00,\n",
       "          6.9589e-04,  0.0000e+00],\n",
       "        ...,\n",
       "        [ 0.0000e+00,  0.0000e+00, -6.9589e-04,  ...,  0.0000e+00,\n",
       "          1.2534e-84,  0.0000e+00],\n",
       "        [ 0.0000e+00,  0.0000e+00,  0.0000e+00,  ..., -6.9589e-04,\n",
       "          6.9589e-04,  0.0000e+00],\n",
       "        [ 6.9589e-04, -6.9589e-04,  0.0000e+00,  ...,  0.0000e+00,\n",
       "          0.0000e+00,  0.0000e+00]], dtype=torch.float64)"
      ]
     },
     "execution_count": 79,
     "metadata": {},
     "output_type": "execute_result"
    }
   ],
   "source": [
    "y_p_t.grad"
   ]
  },
  {
   "cell_type": "code",
   "execution_count": null,
   "id": "9a5a7214-968f-4bc7-8601-c39175c620dc",
   "metadata": {},
   "outputs": [],
   "source": []
  },
  {
   "cell_type": "code",
   "execution_count": 80,
   "id": "23fb1669-a2c3-48a1-a199-ccec9698bdee",
   "metadata": {},
   "outputs": [],
   "source": [
    "loss = mll.SoftmaxCrossEntropy()"
   ]
  },
  {
   "cell_type": "code",
   "execution_count": 83,
   "id": "0c53856a-08bc-4443-8dd9-70bcfea4228b",
   "metadata": {},
   "outputs": [
    {
     "data": {
      "text/plain": [
       "array([[0.00000000e+00, 0.00000000e+00, 0.00000000e+00, ...,\n",
       "        0.00000000e+00, 1.00000000e+00, 0.00000000e+00],\n",
       "       [0.00000000e+00, 0.00000000e+00, 0.00000000e+00, ...,\n",
       "        0.00000000e+00, 1.00000000e+00, 0.00000000e+00],\n",
       "       [0.00000000e+00, 0.00000000e+00, 0.00000000e+00, ...,\n",
       "        0.00000000e+00, 1.00000000e+00, 0.00000000e+00],\n",
       "       ...,\n",
       "       [0.00000000e+00, 0.00000000e+00, 0.00000000e+00, ...,\n",
       "        0.00000000e+00, 1.80119497e-81, 0.00000000e+00],\n",
       "       [0.00000000e+00, 0.00000000e+00, 0.00000000e+00, ...,\n",
       "        0.00000000e+00, 1.00000000e+00, 0.00000000e+00],\n",
       "       [1.00000000e+00, 0.00000000e+00, 0.00000000e+00, ...,\n",
       "        0.00000000e+00, 0.00000000e+00, 0.00000000e+00]])"
      ]
     },
     "execution_count": 83,
     "metadata": {},
     "output_type": "execute_result"
    }
   ],
   "source": [
    "loss.softmax(y_p)"
   ]
  },
  {
   "cell_type": "code",
   "execution_count": 89,
   "id": "0f804d2b-e171-43c4-8526-fb3b84c7daf2",
   "metadata": {},
   "outputs": [],
   "source": [
    "o = loss(y_train, y_p)"
   ]
  },
  {
   "cell_type": "code",
   "execution_count": 91,
   "id": "a7eb9114-98d1-4c28-b9c4-66a3abd25721",
   "metadata": {},
   "outputs": [
    {
     "data": {
      "text/plain": [
       "array([[ 0.00000000e+00,  0.00000000e+00,  0.00000000e+00, ...,\n",
       "         0.00000000e+00,  6.95894224e-04,  0.00000000e+00],\n",
       "       [-6.95894224e-04,  0.00000000e+00,  0.00000000e+00, ...,\n",
       "         0.00000000e+00,  6.95894224e-04,  0.00000000e+00],\n",
       "       [-6.95894224e-04,  0.00000000e+00,  0.00000000e+00, ...,\n",
       "         0.00000000e+00,  6.95894224e-04,  0.00000000e+00],\n",
       "       ...,\n",
       "       [ 0.00000000e+00,  0.00000000e+00, -6.95894224e-04, ...,\n",
       "         0.00000000e+00,  1.25344118e-84,  0.00000000e+00],\n",
       "       [ 0.00000000e+00,  0.00000000e+00,  0.00000000e+00, ...,\n",
       "        -6.95894224e-04,  6.95894224e-04,  0.00000000e+00],\n",
       "       [ 6.95894224e-04, -6.95894224e-04,  0.00000000e+00, ...,\n",
       "         0.00000000e+00,  0.00000000e+00,  0.00000000e+00]])"
      ]
     },
     "execution_count": 91,
     "metadata": {},
     "output_type": "execute_result"
    }
   ],
   "source": [
    "loss.backward()"
   ]
  },
  {
   "cell_type": "code",
   "execution_count": 64,
   "id": "2c2ef65b-4dbd-40e3-83d3-02e8d91e04fe",
   "metadata": {},
   "outputs": [
    {
     "name": "stdout",
     "output_type": "stream",
     "text": [
      "Epoch 0, loss inf\n",
      "Epoch 1, loss inf\n",
      "Epoch 2, loss inf\n",
      "Epoch 3, loss inf\n",
      "Epoch 4, loss inf\n",
      "Epoch 5, loss inf\n",
      "Epoch 6, loss inf\n",
      "Epoch 7, loss inf\n",
      "Epoch 8, loss inf\n",
      "Epoch 9, loss inf\n",
      "Epoch 10, loss inf\n",
      "Epoch 11, loss inf\n",
      "Epoch 12, loss inf\n",
      "Epoch 13, loss inf\n",
      "Epoch 14, loss inf\n",
      "Epoch 15, loss inf\n",
      "Epoch 16, loss inf\n",
      "Epoch 17, loss inf\n",
      "Epoch 18, loss inf\n",
      "Epoch 19, loss inf\n",
      "Epoch 20, loss inf\n",
      "Epoch 21, loss inf\n",
      "Epoch 22, loss inf\n",
      "Epoch 23, loss inf\n",
      "Epoch 24, loss inf\n",
      "Epoch 25, loss inf\n",
      "Epoch 26, loss inf\n",
      "Epoch 27, loss inf\n",
      "Epoch 28, loss inf\n",
      "Epoch 29, loss inf\n",
      "Epoch 30, loss inf\n",
      "Epoch 31, loss inf\n",
      "Epoch 32, loss inf\n",
      "Epoch 33, loss inf\n",
      "Epoch 34, loss inf\n",
      "Epoch 35, loss inf\n",
      "Epoch 36, loss inf\n",
      "Epoch 37, loss inf\n",
      "Epoch 38, loss inf\n",
      "Epoch 39, loss inf\n",
      "Epoch 40, loss inf\n",
      "Epoch 41, loss inf\n",
      "Epoch 42, loss inf\n",
      "Epoch 43, loss inf\n",
      "Epoch 44, loss inf\n",
      "Epoch 45, loss inf\n",
      "Epoch 46, loss inf\n",
      "Epoch 47, loss inf\n",
      "Epoch 48, loss inf\n",
      "Epoch 49, loss inf\n",
      "Epoch 50, loss inf\n",
      "Epoch 51, loss inf\n",
      "Epoch 52, loss inf\n",
      "Epoch 53, loss inf\n",
      "Epoch 54, loss inf\n",
      "Epoch 55, loss inf\n",
      "Epoch 56, loss inf\n",
      "Epoch 57, loss inf\n",
      "Epoch 58, loss inf\n",
      "Epoch 59, loss inf\n",
      "Epoch 60, loss inf\n",
      "Epoch 61, loss inf\n",
      "Epoch 62, loss inf\n",
      "Epoch 63, loss inf\n",
      "Epoch 64, loss inf\n",
      "Epoch 65, loss inf\n",
      "Epoch 66, loss inf\n",
      "Epoch 67, loss inf\n",
      "Epoch 68, loss inf\n",
      "Epoch 69, loss inf\n",
      "Epoch 70, loss inf\n",
      "Epoch 71, loss inf\n",
      "Epoch 72, loss inf\n",
      "Epoch 73, loss inf\n",
      "Epoch 74, loss inf\n",
      "Epoch 75, loss inf\n",
      "Epoch 76, loss inf\n",
      "Epoch 77, loss inf\n",
      "Epoch 78, loss inf\n",
      "Epoch 79, loss inf\n",
      "Epoch 80, loss inf\n",
      "Epoch 81, loss inf\n",
      "Epoch 82, loss inf\n",
      "Epoch 83, loss inf\n",
      "Epoch 84, loss inf\n",
      "Epoch 85, loss inf\n",
      "Epoch 86, loss inf\n",
      "Epoch 87, loss inf\n",
      "Epoch 88, loss inf\n",
      "Epoch 89, loss inf\n",
      "Epoch 90, loss inf\n",
      "Epoch 91, loss inf\n",
      "Epoch 92, loss inf\n",
      "Epoch 93, loss inf\n",
      "Epoch 94, loss inf\n",
      "Epoch 95, loss inf\n",
      "Epoch 96, loss inf\n",
      "Epoch 97, loss inf\n",
      "Epoch 98, loss inf\n",
      "Epoch 99, loss inf\n"
     ]
    },
    {
     "name": "stderr",
     "output_type": "stream",
     "text": [
      "/home/jing/notebooks/ML-Projects/ml_basics/ml/losses.py:55: RuntimeWarning: divide by zero encountered in log\n",
      "  return -np.log(self.softmax_y_pred[np.arange(n_sample), y]).sum() / n_sample\n"
     ]
    }
   ],
   "source": [
    "fit(X_train, y_train, Model(n_feature, 30), mll.SoftmaxCrossEntropy(), 0.05, 100)"
   ]
  },
  {
   "cell_type": "markdown",
   "id": "35190cb4-0bba-4b49-899c-a5152ead2a68",
   "metadata": {},
   "source": [
    "#### pytorch"
   ]
  }
 ],
 "metadata": {
  "kernelspec": {
   "display_name": "fire_DL",
   "language": "python",
   "name": "conda-env-fire_DL-py"
  },
  "language_info": {
   "codemirror_mode": {
    "name": "ipython",
    "version": 3
   },
   "file_extension": ".py",
   "mimetype": "text/x-python",
   "name": "python",
   "nbconvert_exporter": "python",
   "pygments_lexer": "ipython3",
   "version": "3.9.9"
  }
 },
 "nbformat": 4,
 "nbformat_minor": 5
}
