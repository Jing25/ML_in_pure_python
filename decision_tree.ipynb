{
 "cells": [
  {
   "cell_type": "code",
   "execution_count": 2,
   "id": "fc68004b-d2bc-42af-9600-6e2f2292215d",
   "metadata": {},
   "outputs": [],
   "source": [
    "%load_ext autoreload\n",
    "%autoreload 2"
   ]
  },
  {
   "cell_type": "code",
   "execution_count": 1,
   "id": "4f763106-d21b-47ce-aee0-6cb7668642ce",
   "metadata": {},
   "outputs": [],
   "source": [
    "import ml.models as mlm"
   ]
  },
  {
   "cell_type": "code",
   "execution_count": 3,
   "id": "0061f440-9898-4e02-aff0-0af06e80e80a",
   "metadata": {},
   "outputs": [],
   "source": [
    "training_data = [\n",
    "    ['Green', 3, 'Apple'],\n",
    "    ['Yellow', 3, 'Apple'],\n",
    "    ['Red', 1, 'Grape'],\n",
    "    ['Red', 1, 'Grape'],\n",
    "    ['Yellow', 3, 'Lemon'],\n",
    "]"
   ]
  },
  {
   "cell_type": "code",
   "execution_count": 4,
   "id": "4d4495fa-31c5-4dc9-9e27-bd06aa9b7b93",
   "metadata": {},
   "outputs": [],
   "source": [
    "# Column labels.\n",
    "# These are used only to print the tree.\n",
    "header = [\"color\", \"diameter\", \"label\"]"
   ]
  },
  {
   "cell_type": "code",
   "execution_count": 60,
   "id": "dc1254c3-263e-4227-a293-e940c894c134",
   "metadata": {},
   "outputs": [],
   "source": [
    "dtree = mlm.DecisionTree()"
   ]
  },
  {
   "cell_type": "code",
   "execution_count": 6,
   "id": "c144a986-3839-4fd3-a7bd-49940c93d9df",
   "metadata": {},
   "outputs": [
    {
     "data": {
      "text/plain": [
       "{1, 3}"
      ]
     },
     "execution_count": 6,
     "metadata": {},
     "output_type": "execute_result"
    }
   ],
   "source": [
    "dtree.unique_value(training_data, 1)"
   ]
  },
  {
   "cell_type": "code",
   "execution_count": 14,
   "id": "d129109f-3189-40ec-8edd-ae3a6cdf4496",
   "metadata": {},
   "outputs": [
    {
     "data": {
      "text/plain": [
       "False"
      ]
     },
     "execution_count": 14,
     "metadata": {},
     "output_type": "execute_result"
    }
   ],
   "source": [
    "dtree.is_numeric('green')"
   ]
  },
  {
   "cell_type": "code",
   "execution_count": 15,
   "id": "838fb5b3-ddd3-4ca3-a119-433f95f2cfe9",
   "metadata": {},
   "outputs": [
    {
     "data": {
      "text/plain": [
       "([['Red', 1, 'Grape'], ['Red', 1, 'Grape']],\n",
       " [['Green', 3, 'Apple'], ['Yellow', 3, 'Apple'], ['Yellow', 3, 'Lemon']])"
      ]
     },
     "execution_count": 15,
     "metadata": {},
     "output_type": "execute_result"
    }
   ],
   "source": [
    "dtree.partition(training_data, 0, 'Red')"
   ]
  },
  {
   "cell_type": "code",
   "execution_count": 19,
   "id": "fae5629f-d6b0-4f0e-a65f-b8f7576eaf99",
   "metadata": {},
   "outputs": [
    {
     "data": {
      "text/plain": [
       "defaultdict(int, {'Apple': 2, 'Grape': 2, 'Lemon': 1})"
      ]
     },
     "execution_count": 19,
     "metadata": {},
     "output_type": "execute_result"
    }
   ],
   "source": [
    "dtree.count_label(training_data)"
   ]
  },
  {
   "cell_type": "code",
   "execution_count": 27,
   "id": "1f5b8351-4446-42f7-a114-1457ed5d674c",
   "metadata": {},
   "outputs": [
    {
     "name": "stdout",
     "output_type": "stream",
     "text": [
      "defaultdict(<class 'int'>, {'Apple': 1, 'Orange': 1, 'Grape': 1, 'Grapefruit': 1, 'Blueberry': 1})\n"
     ]
    },
    {
     "data": {
      "text/plain": [
       "0.7999999999999998"
      ]
     },
     "execution_count": 27,
     "metadata": {},
     "output_type": "execute_result"
    }
   ],
   "source": [
    "data = [['Apple'],\n",
    "                  ['Orange'],\n",
    "                  ['Grape'],\n",
    "                  ['Grapefruit'],\n",
    "                  ['Blueberry']]\n",
    "dtree.gini_impurity(data)"
   ]
  },
  {
   "cell_type": "code",
   "execution_count": 40,
   "id": "09f9e68c-b56b-4940-8827-4fb6878c67d1",
   "metadata": {},
   "outputs": [
    {
     "data": {
      "text/plain": [
       "0.1399999999999999"
      ]
     },
     "execution_count": 40,
     "metadata": {},
     "output_type": "execute_result"
    }
   ],
   "source": [
    "true_rows, false_rows = dtree.partition(training_data, 0, 'Green')\n",
    "dtree.info_gain(true_rows, false_rows, dtree.gini_impurity(training_data))"
   ]
  },
  {
   "cell_type": "code",
   "execution_count": 75,
   "id": "e63458d6-3bbb-4da8-bd69-5f9e75fd2a80",
   "metadata": {},
   "outputs": [],
   "source": [
    "my_tree = dtree.build_tree(training_data)"
   ]
  },
  {
   "cell_type": "code",
   "execution_count": 76,
   "id": "bfe6b49a-0c1e-4976-a590-592e2a7a7d47",
   "metadata": {},
   "outputs": [
    {
     "name": "stdout",
     "output_type": "stream",
     "text": [
      "[1, 1]\n",
      "--> True:\n",
      "  Predict Counter({'Grape': 2})\n",
      "--> False:\n",
      "  [0, 'Yellow']\n",
      "  --> True:\n",
      "    Predict Counter({'Apple': 1, 'Lemon': 1})\n",
      "  --> False:\n",
      "    Predict Counter({'Apple': 1})\n"
     ]
    }
   ],
   "source": [
    "dtree.print_tree(my_tree)"
   ]
  },
  {
   "cell_type": "code",
   "execution_count": 74,
   "id": "c9cdb58f-c9dc-4e8e-9dee-3ed9ac017b27",
   "metadata": {},
   "outputs": [
    {
     "data": {
      "text/plain": [
       "Counter({'Apple': 1, 'Lemon': 1})"
      ]
     },
     "execution_count": 74,
     "metadata": {},
     "output_type": "execute_result"
    }
   ],
   "source": [
    "dtree.classify(training_data[1], my_tree)"
   ]
  },
  {
   "cell_type": "code",
   "execution_count": null,
   "id": "1b989b82-fc32-4f79-a5ec-69cf3f2c460f",
   "metadata": {},
   "outputs": [],
   "source": []
  }
 ],
 "metadata": {
  "kernelspec": {
   "display_name": "fire_DL",
   "language": "python",
   "name": "conda-env-fire_DL-py"
  },
  "language_info": {
   "codemirror_mode": {
    "name": "ipython",
    "version": 3
   },
   "file_extension": ".py",
   "mimetype": "text/x-python",
   "name": "python",
   "nbconvert_exporter": "python",
   "pygments_lexer": "ipython3",
   "version": "3.9.9"
  }
 },
 "nbformat": 4,
 "nbformat_minor": 5
}
